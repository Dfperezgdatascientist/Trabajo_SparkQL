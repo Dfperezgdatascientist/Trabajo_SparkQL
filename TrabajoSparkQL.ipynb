{
 "cells": [
  {
   "cell_type": "markdown",
   "metadata": {},
   "source": [
    "# Análisis e Implementación en SparkQL\n",
    "\n",
    "* Entrega hasta el 24 de mayo en https://forms.gle/aRiWtjayausRFCTd8\n",
    "\n",
    "* Los dos conjuntos de datos entregados, CSV separados por coma, Evaluación del Pitch (2021.04.13 ISoftware).csv y Asistencia del Pitch (2021.04.13 ISoftware).csv proceden de dos encuestas realizadas con Google Forms.\n",
    "\n",
    "* Los archivos proceden de las evaluaciones de los pitch (exposiciones cortas de negocio) que realizan los estudiantes de la asignatura de Ingeniería de Software. Los estudiantes están organizados en equipos. Cada equipo realiza una presentación de máximo 15 minutos, una vez inicia la presentación todos los estudiantes deben registrar su asistencia lo cual queda registrado en 'Asistencia del Pitch (2021.04.13 ISoftware).csv' incluidos los miembros del equipo.\n",
    "\n",
    "* El archivo `Asistencia del Pitch (2021.04.13 ISoftware).csv` contiene las columnas: `\"Marca temporal\"` es tiempo dado en fecha y hora, `\"Nombre de usuario\"` es el correo electrónico del estudiante y es texto,`\"Equipo al que perteneces:\"` equipo de trabajo al que pertenece el estudiante también es texto y `\"Equipo que va a exponer:\"` equipo que el estudiante va a tender a su presentación.\n",
    "\n",
    "* El archivo `Evaluación del Pitch (2021.04.13 ISoftware).csv` contiene las columnas `\"Marca temporal\"` es tiempo dado en fecha y hora, `\"Nombre de usuario\"` es el correo electrónico del estudiante y es texto, `\"Equipo que vas a evaluar:\"` equipo que ha expuesto y que va a ser evaluado por cada estudiante que no sea integrante; a continuación, se tienen las siguientes columnas que corresponden a la evaluación de los respectivos ítems:\n",
    "\n",
    "    1. \"Introducción: El equipo responde adecuadamente ¿Quiénes son y por qué están aquí?\",\n",
    "    2. \"Equipo: El equipo responde adecuadamente ¿Quiénes están detrás de la idea y cuál es su función?\",\n",
    "    3. \"Problema: El equipo responde adecuadamente ¿Qué problema resolverá?, ¿es realmente un problema?\",\n",
    "    4. \"Ventajas: El equipo responde adecuadamente ¿Por qué su solución es especial?, ¿qué la hace distinta de otras?\",\n",
    "    5. \"Solución: El equipo responde adecuadamente ¿Cómo piensa resolver el problema?\",\n",
    "    6. \"Producto: El equipo responde adecuadamente ¿Cómo funciona el producto o servicio? Muestra algunos ejemplos.\",\n",
    "    7. \"Tracción: El equipo responde adecuadamente si cuenta con clientes que demuestran potencial.\",\n",
    "    8. \"Mercado: El equipo responde conoce, o por lo menos intentar predecir, el tamaño del mercado que impactará.\",\n",
    "    9. \"Competencia: El equipo responde adecuadamente ¿Cuáles son las soluciones alternativas al problema que plantea?\",\n",
    "    10. \"Modelo de negocio: El equipo responde adecuadamente ¿Cómo hará dinero? \",\n",
    "    11. \"Inversión: El equipo responde adecuadamente ¿Cuál es su presupuesto y cuánto espera ganar?\",\n",
    "    12. \"Contacto: El equipo deja los datos al cliente y muestra cómo pueden contactarle.\",\n",
    "    13. \"Exposición: ¿Qué tan coordinados estaban los expositores?\",\n",
    "    14. \"Exposición: ¿Los expositores se expresaron con claridad y se hicieron entender?\",\n",
    "    15. \"Exposición: Las diapositivas son claras y coherentes y apoyaron adecuadamente la exposición.\",\n",
    "    * \"Suponiendo que eres inversionista, ¿Estarías dispuesto a invertir dinero en este equipo? (esta pregunta no se pondera en la nota)\",\n",
    "    * \"Observaciones para el equipo, estas observaciones las debe considerar el equipo para mejorar la siguiente presentación.\"\n",
    "\n",
    "\n",
    "* Cada ítem se evalúa con la siguiente escala: 0. Ausente; 1. Deficiente; 2. Regular; 3. Aceptable; 4. Bueno; 5. Excelente\n",
    "\n",
    "* Carge los datos, cada archivo en una tabla SparkSQL y responda cada una de las consultas dadas en cada celda. Tenga en cuenta que algunas consultas pueden tener como resultado el vacío."
   ]
  },
  {
   "cell_type": "markdown",
   "metadata": {},
   "source": [
    "# Integrantes del equipo\n",
    "\n",
    "1. Maria Jenifer Montoya Grajales 42694359\n",
    "2. Efraín Galvis Amaya 1152193093\n",
    "3. Daniel Felipe Pérez Grajales 1152435277\n",
    "4. Sandy Pahola Hernandez Guerrero 1022161373\n",
    "5. Tomás Simón Gómez 1214720739"
   ]
  },
  {
   "cell_type": "code",
   "execution_count": 1,
   "metadata": {},
   "outputs": [
    {
     "name": "stdout",
     "output_type": "stream",
     "text": [
      "Requirement already satisfied: Cython in /usr/local/lib/python3.6/dist-packages\n",
      "Requirement already satisfied: pyarrow==0.9.0 in /usr/local/lib/python3.6/dist-packages\n",
      "Requirement already satisfied: numpy>=1.10 in /usr/local/lib/python3.6/dist-packages (from pyarrow==0.9.0)\n",
      "Requirement already satisfied: six>=1.0.0 in /usr/lib/python3/dist-packages (from pyarrow==0.9.0)\n",
      "Requirement already satisfied: ts-flint in /usr/local/lib/python3.6/dist-packages\n"
     ]
    }
   ],
   "source": [
    "!pip3 install Cython #Para trabajar liberias de C\n",
    "!pip3 install pyarrow==0.9.0\n",
    "!pip3 install ts-flint  #Crera series de tiempo en ambiente distribuido de saprk y flint necesita una luibrerias de java\n",
    "#!wget https://repo1.maven.org/maven2/com/twosigma/flint/0.6.0/flint-0.6.0.jar\n",
    "import os\n",
    "os.environ['PYSPARK_SUBMIT_ARGS'] = '--jars /datalake/flint-0.6.0.jar --py-files /datalake/flint-0.6.0.jar pyspark-shell'\n"
   ]
  },
  {
   "cell_type": "code",
   "execution_count": 2,
   "metadata": {},
   "outputs": [],
   "source": [
    "# La libreria para \"encontrar el sevicio\" de Spark\n",
    "import findspark\n",
    "findspark.init()\n",
    "\n",
    "# Librerias para \"gestionar el servicio\" de Spark\n",
    "from pyspark import SparkConf, SparkContext\n",
    "from pyspark.sql import SQLContext, SparkSession\n",
    "\n",
    "# Creamos una aplicación Spark en el Servicio\n",
    "# Tenga cuidado con las tildes o caracteres especiales en el nombre de la app\n",
    "AppSpark = SparkConf().setAppName(\"Evaluacion iSofware\")\n",
    "\n",
    "# definimos un espacio o contexto para la App\n",
    "ContextoSpark=SparkContext(conf=AppSpark)\n",
    "\n",
    "# inicio una sesión en el espacio de la App\n",
    "SesionSpark = SparkSession(ContextoSpark)\n",
    "\n",
    "# inicio del espacio o contexto SQL\n",
    "ContextoSql = SQLContext(sparkContext=ContextoSpark, sparkSession=SesionSpark)"
   ]
  },
  {
   "cell_type": "code",
   "execution_count": 3,
   "metadata": {},
   "outputs": [
    {
     "name": "stdout",
     "output_type": "stream",
     "text": [
      "Found 2 items\n",
      "-rw-r--r--   1 root supergroup      64648 2021-05-30 03:54 Asistencia.csv\n",
      "-rw-r--r--   1 root supergroup      81597 2021-05-30 03:54 Evaluacion.csv\n",
      "ls: `/tmp/*csv': No such file or directory\n"
     ]
    }
   ],
   "source": [
    "# 1. Cargue los datos en la carpeta datalake y luego del /datalake al HDFS (Hadoop File System)\n",
    "# Recuerda usar ! para ejecutar el comando en el shell. \n",
    "# Tu código a continuación...\n",
    "##\n",
    "## Crea un DataFrame a partir \n",
    "##\n",
    "\n",
    "!hadoop fs -put Asistencia.csv\n",
    "!hadoop fs -put Evaluacion.csv\n",
    "!hadoop fs -ls\n",
    "\n",
    "!hdfs dfs -ls /tmp/*csv\n"
   ]
  },
  {
   "cell_type": "code",
   "execution_count": 4,
   "metadata": {},
   "outputs": [
    {
     "name": "stdout",
     "output_type": "stream",
     "text": [
      "ls: `/tmp/*csv': No such file or directory\n"
     ]
    }
   ],
   "source": [
    "!hdfs dfs -ls /tmp/*csv"
   ]
  },
  {
   "cell_type": "code",
   "execution_count": 5,
   "metadata": {},
   "outputs": [
    {
     "name": "stdout",
     "output_type": "stream",
     "text": [
      "+--------+---------+-----------+\n",
      "|database|tableName|isTemporary|\n",
      "+--------+---------+-----------+\n",
      "+--------+---------+-----------+\n",
      "\n"
     ]
    }
   ],
   "source": [
    "ContextoSql.sql(\"show tables\").show();"
   ]
  },
  {
   "cell_type": "code",
   "execution_count": 6,
   "metadata": {},
   "outputs": [
    {
     "name": "stdout",
     "output_type": "stream",
     "text": [
      "Marca_temporal,Nombre_de_usuario,Equipo_al_que_perteneces,Equipo_que_va_a_exponer\n",
      "2021/04/08 8:07:55,jppinedal@unal.edu.co,Servicios a domicilio,Servicios a domicilio\n",
      "2021/04/08 8:09:39,dgarciabl@unal.edu.co,Lo tengo y te lo presto.,Lo tengo y te lo presto.\n",
      "2021/04/08 8:09:53,auarbelaeza@unal.edu.co,Gesti��n de Residencias y Habitaciones Universitarias.,Te lo cambio.\n",
      "2021/04/08 8:09:55,jmunozhe@unal.edu.co,Lo tengo y te lo presto.,Te lo cambio.\n",
      "cat: Unable to write to output stream.\n"
     ]
    }
   ],
   "source": [
    "!hadoop fs -cat Asistencia.csv | head -n 5"
   ]
  },
  {
   "cell_type": "code",
   "execution_count": 7,
   "metadata": {},
   "outputs": [
    {
     "name": "stdout",
     "output_type": "stream",
     "text": [
      "Marca_temporal,Nombre_de_usuario,Equipo_que_vas_a_evaluar,Introducci��n_El_equipo_responde_adecuadamente_��Qui��nes_son_y_por_qu��_est��n_aqu��?,Equipo_El_equipo_responde_adecuadamente_��Qui��nes_est��n_detr��s_de_la_idea_y_cu��l_es_su_funci��n?,\"Problema_El_equipo_responde_adecuadamente_��Qu��_problema_resolver��?,_��es_realmente_un_problema?\",\"Ventajas_El_equipo_responde_adecuadamente_��Por_qu��_su_soluci��n_es_especial?,_��qu��_la_hace_distinta_de_otras?\",Soluci��n_El_equipo_responde_adecuadamente_��C��mo_piensa_resolver_el_problema?,Producto_El_equipo_responde_adecuadamente_��C��mo_funciona_el_producto_o_servicio?,Tracci��n_El_equipo_responde_adecuadamente_si_cuenta_con_clientes_que_demuestran_potencial.,\"Mercado_El_equipo_responde_conoce,_o_por_lo_menos_intentar_predecir,_el_tama��o_del_mercado_que_impactar��.\",Competencia_El_equipo_responde_adecuadamente_��Cu��les_son_las_soluciones_alternativas_al_problema_que_plantea?,Modelo_de_negocio_El_equipo_responde_adecuadamente_��C��mo_har��_dinero?_,Inversi��n_El_equipo_responde_adecuadamente_��Cu��l_es_su_presupuesto_y_cu��nto_espera_ganar?,Contacto_El_equipo_deja_los_datos_al_cliente_y_muestra_c��mo_pueden_contactarle.,Exposici��n_��Qu��_tan_coordinados_estaban_los_expositores?,Exposici��n_��Los_expositores_se_expresaron_con_claridad_y_se_hicieron_entender?,Exposici��n_Las_diapositivas_son_claras_y_coherentes_y_apoyaron_adecuadamente_la_exposici��n.,\"Suponiendo_que_eres_inversionista,_��Estar��as_dispuesto_a_invertir_dinero_en_este_equipo?_(esta_pregunta_no_se_pondera_en_la_nota)\",\"Observaciones_para_el_equipo,_estas_observaciones_las_debe_considerar_el_equipo_para_mejorar_la_siguiente_presentaci��n.\"\n",
      "2021/04/08 8:26:30,jmunozbo@unal.edu.co,Te lo cambio.,5,5,5,5,5,5,5,5,5,5,3,5,5,5,5,Tal vez,\n",
      "2021/04/08 8:26:49,daestradam@unal.edu.co,Te lo cambio.,5,5,5,4,5,5,4,5,4,4,4,4,4,5,5,Tal vez,\n",
      "2021/04/08 8:27:29,seagudeloo@unal.edu.co,Te lo cambio.,4,4,4,4,4,4,4,4,3,4,3,5,5,4,5,S��,\n",
      "2021/04/08 8:27:34,jubuitrago@unal.edu.co,Te lo cambio.,5,4,5,4,5,5,4,4,5,4,4,4,5,5,5,No,Realmente siento que lo hicieron muy bien\n",
      "cat: Unable to write to output stream.\n"
     ]
    }
   ],
   "source": [
    "!hadoop fs -cat Evaluacion.csv | head -n 5"
   ]
  },
  {
   "cell_type": "code",
   "execution_count": 9,
   "metadata": {},
   "outputs": [],
   "source": [
    "Evaluacion = SesionSpark.read.load(\"Evaluacion.csv\",\n",
    "                          format=\"csv\",\n",
    "                          sep=\",\",\n",
    "                          inferSchema=\"true\",\n",
    "                          header=\"true\")"
   ]
  },
  {
   "cell_type": "code",
   "execution_count": 10,
   "metadata": {},
   "outputs": [],
   "source": [
    "Asistencia = SesionSpark.read.load(\"Asistencia.csv\",\n",
    "                          format=\"csv\",\n",
    "                          sep=\",\",\n",
    "                          inferSchema=\"true\",\n",
    "                          header=\"true\")"
   ]
  },
  {
   "cell_type": "code",
   "execution_count": 11,
   "metadata": {},
   "outputs": [
    {
     "name": "stdout",
     "output_type": "stream",
     "text": [
      "<class 'pyspark.sql.dataframe.DataFrame'>\n",
      "<class 'pyspark.sql.dataframe.DataFrame'>\n"
     ]
    }
   ],
   "source": [
    "print(type(Asistencia))\n",
    "print(type(Evaluacion))"
   ]
  },
  {
   "cell_type": "code",
   "execution_count": 12,
   "metadata": {},
   "outputs": [
    {
     "name": "stdout",
     "output_type": "stream",
     "text": [
      " Asistencia.csv\t\t      Evaluacion.csv\t     flint-0.6.0.jar\n",
      "'Datos para el Trabajo.zip'   TrabajoSparkQL.ipynb   spark-warehouse\n",
      " Ejemplo2.ipynb\t\t      ejemplo.ipynb\n"
     ]
    }
   ],
   "source": [
    "!ls"
   ]
  },
  {
   "cell_type": "code",
   "execution_count": 13,
   "metadata": {},
   "outputs": [
    {
     "data": {
      "text/plain": [
       "DataFrame[]"
      ]
     },
     "execution_count": 13,
     "metadata": {},
     "output_type": "execute_result"
    }
   ],
   "source": [
    "# 2. Cree dos tablas SparkSQL y almacene el csv en su correspondiente tabla.\n",
    "# Observación: tenga especial cuidado con los encabezados de los archivos CSV.\n",
    "# Usted puede considerar cambiar los encabezados de los CSV originales\n",
    "# Tu código a continuación...\n",
    "ContextoSql.sql(\"\"\"\n",
    "CREATE TABLE \n",
    "    tabla_Asistencia \n",
    "USING CSV \n",
    "OPTIONS (path 'Asistencia.csv', header 'true')               \n",
    "\"\"\"\n",
    ")"
   ]
  },
  {
   "cell_type": "code",
   "execution_count": 14,
   "metadata": {},
   "outputs": [
    {
     "data": {
      "text/plain": [
       "DataFrame[]"
      ]
     },
     "execution_count": 14,
     "metadata": {},
     "output_type": "execute_result"
    }
   ],
   "source": [
    "ContextoSql.sql(\"\"\"\n",
    "CREATE TABLE \n",
    "    tabla_Evaluacion\n",
    "USING CSV \n",
    "OPTIONS (path 'Evaluacion.csv', header 'true')               \n",
    "\"\"\"\n",
    ")"
   ]
  },
  {
   "cell_type": "code",
   "execution_count": 15,
   "metadata": {},
   "outputs": [
    {
     "name": "stdout",
     "output_type": "stream",
     "text": [
      "+------------------+--------------------+------------------------+-----------------------+\n",
      "|    Marca_temporal|   Nombre_de_usuario|Equipo_al_que_perteneces|Equipo_que_va_a_exponer|\n",
      "+------------------+--------------------+------------------------+-----------------------+\n",
      "|2021/04/08 8:07:55|jppinedal@unal.ed...|    Servicios a domic...|   Servicios a domic...|\n",
      "|2021/04/08 8:09:39|dgarciabl@unal.ed...|    Lo tengo y te lo ...|   Lo tengo y te lo ...|\n",
      "|2021/04/08 8:09:53|auarbelaeza@unal....|    Gestión de Reside...|          Te lo cambio.|\n",
      "+------------------+--------------------+------------------------+-----------------------+\n",
      "only showing top 3 rows\n",
      "\n"
     ]
    }
   ],
   "source": [
    "consulta = ContextoSql.sql(\"select * from tabla_Asistencia\")\n",
    "consulta.show(3)"
   ]
  },
  {
   "cell_type": "code",
   "execution_count": 16,
   "metadata": {},
   "outputs": [
    {
     "name": "stdout",
     "output_type": "stream",
     "text": [
      "+------------------+--------------------+------------------------+--------------------------------------------------------------------------------+----------------------------------------------------------------------------------------------+----------------------------------------------------------------------------------------------+------------------------------------------------------------------------------------------------------------+----------------------------------------------------------------------------+--------------------------------------------------------------------------------+------------------------------------------------------------------------------------------+---------------------------------------------------------------------------------------------------------+-------------------------------------------------------------------------------------------------------------+----------------------------------------------------------------------+-----------------------------------------------------------------------------------------+-------------------------------------------------------------------------------+--------------------------------------------------------+------------------------------------------------------------------------------+-------------------------------------------------------------------------------------------+---------------------------------------------------------------------------------------------------------------------------------+-----------------------------------------------------------------------------------------------------------------------+\n",
      "|    Marca_temporal|   Nombre_de_usuario|Equipo_que_vas_a_evaluar|Introducción_El_equipo_responde_adecuadamente_¿Quiénes_son_y_por_qué_están_aquí?|Equipo_El_equipo_responde_adecuadamente_¿Quiénes_están_detrás_de_la_idea_y_cuál_es_su_función?|Problema_El_equipo_responde_adecuadamente_¿Qué_problema_resolverá?,_¿es_realmente_un_problema?|Ventajas_El_equipo_responde_adecuadamente_¿Por_qué_su_solución_es_especial?,_¿qué_la_hace_distinta_de_otras?|Solución_El_equipo_responde_adecuadamente_¿Cómo_piensa_resolver_el_problema?|Producto_El_equipo_responde_adecuadamente_¿Cómo_funciona_el_producto_o_servicio?|Tracción_El_equipo_responde_adecuadamente_si_cuenta_con_clientes_que_demuestran_potencial.|Mercado_El_equipo_responde_conoce,_o_por_lo_menos_intentar_predecir,_el_tamaño_del_mercado_que_impactará.|Competencia_El_equipo_responde_adecuadamente_¿Cuáles_son_las_soluciones_alternativas_al_problema_que_plantea?|Modelo_de_negocio_El_equipo_responde_adecuadamente_¿Cómo_hará_dinero?_|Inversión_El_equipo_responde_adecuadamente_¿Cuál_es_su_presupuesto_y_cuánto_espera_ganar?|Contacto_El_equipo_deja_los_datos_al_cliente_y_muestra_cómo_pueden_contactarle.|Exposición_¿Qué_tan_coordinados_estaban_los_expositores?|Exposición_¿Los_expositores_se_expresaron_con_claridad_y_se_hicieron_entender?|Exposición_Las_diapositivas_son_claras_y_coherentes_y_apoyaron_adecuadamente_la_exposición.|Suponiendo_que_eres_inversionista,_¿Estarías_dispuesto_a_invertir_dinero_en_este_equipo?_(esta_pregunta_no_se_pondera_en_la_nota)|Observaciones_para_el_equipo,_estas_observaciones_las_debe_considerar_el_equipo_para_mejorar_la_siguiente_presentación.|\n",
      "+------------------+--------------------+------------------------+--------------------------------------------------------------------------------+----------------------------------------------------------------------------------------------+----------------------------------------------------------------------------------------------+------------------------------------------------------------------------------------------------------------+----------------------------------------------------------------------------+--------------------------------------------------------------------------------+------------------------------------------------------------------------------------------+---------------------------------------------------------------------------------------------------------+-------------------------------------------------------------------------------------------------------------+----------------------------------------------------------------------+-----------------------------------------------------------------------------------------+-------------------------------------------------------------------------------+--------------------------------------------------------+------------------------------------------------------------------------------+-------------------------------------------------------------------------------------------+---------------------------------------------------------------------------------------------------------------------------------+-----------------------------------------------------------------------------------------------------------------------+\n",
      "|2021/04/08 8:26:30|jmunozbo@unal.edu.co|           Te lo cambio.|                                                                               5|                                                                                             5|                                                                                             5|                                                                                                           5|                                                                           5|                                                                               5|                                                                                         5|                                                                                                        5|                                                                                                            5|                                                                     5|                                                                                        3|                                                                              5|                                                       5|                                                                             5|                                                                                          5|                                                                                                                          Tal vez|                                                                                                                   null|\n",
      "|2021/04/08 8:26:49|daestradam@unal.e...|           Te lo cambio.|                                                                               5|                                                                                             5|                                                                                             5|                                                                                                           4|                                                                           5|                                                                               5|                                                                                         4|                                                                                                        5|                                                                                                            4|                                                                     4|                                                                                        4|                                                                              4|                                                       4|                                                                             5|                                                                                          5|                                                                                                                          Tal vez|                                                                                                                   null|\n",
      "|2021/04/08 8:27:29|seagudeloo@unal.e...|           Te lo cambio.|                                                                               4|                                                                                             4|                                                                                             4|                                                                                                           4|                                                                           4|                                                                               4|                                                                                         4|                                                                                                        4|                                                                                                            3|                                                                     4|                                                                                        3|                                                                              5|                                                       5|                                                                             4|                                                                                          5|                                                                                                                               Sí|                                                                                                                   null|\n",
      "+------------------+--------------------+------------------------+--------------------------------------------------------------------------------+----------------------------------------------------------------------------------------------+----------------------------------------------------------------------------------------------+------------------------------------------------------------------------------------------------------------+----------------------------------------------------------------------------+--------------------------------------------------------------------------------+------------------------------------------------------------------------------------------+---------------------------------------------------------------------------------------------------------+-------------------------------------------------------------------------------------------------------------+----------------------------------------------------------------------+-----------------------------------------------------------------------------------------+-------------------------------------------------------------------------------+--------------------------------------------------------+------------------------------------------------------------------------------+-------------------------------------------------------------------------------------------+---------------------------------------------------------------------------------------------------------------------------------+-----------------------------------------------------------------------------------------------------------------------+\n",
      "only showing top 3 rows\n",
      "\n"
     ]
    }
   ],
   "source": [
    "consulta1 = ContextoSql.sql(\"select * from tabla_Evaluacion\")\n",
    "consulta1.show(3)"
   ]
  },
  {
   "cell_type": "code",
   "execution_count": 17,
   "metadata": {},
   "outputs": [
    {
     "name": "stdout",
     "output_type": "stream",
     "text": [
      "root\n",
      " |-- Marca_temporal: string (nullable = true)\n",
      " |-- Nombre_de_usuario: string (nullable = true)\n",
      " |-- Equipo_al_que_perteneces: string (nullable = true)\n",
      " |-- Equipo_que_va_a_exponer: string (nullable = true)\n",
      "\n"
     ]
    }
   ],
   "source": [
    "consulta.printSchema()"
   ]
  },
  {
   "cell_type": "code",
   "execution_count": 18,
   "metadata": {},
   "outputs": [
    {
     "name": "stdout",
     "output_type": "stream",
     "text": [
      "root\n",
      " |-- Marca_temporal: string (nullable = true)\n",
      " |-- Nombre_de_usuario: string (nullable = true)\n",
      " |-- Equipo_que_vas_a_evaluar: string (nullable = true)\n",
      " |-- Introducción_El_equipo_responde_adecuadamente_¿Quiénes_son_y_por_qué_están_aquí?: string (nullable = true)\n",
      " |-- Equipo_El_equipo_responde_adecuadamente_¿Quiénes_están_detrás_de_la_idea_y_cuál_es_su_función?: string (nullable = true)\n",
      " |-- Problema_El_equipo_responde_adecuadamente_¿Qué_problema_resolverá?,_¿es_realmente_un_problema?: string (nullable = true)\n",
      " |-- Ventajas_El_equipo_responde_adecuadamente_¿Por_qué_su_solución_es_especial?,_¿qué_la_hace_distinta_de_otras?: string (nullable = true)\n",
      " |-- Solución_El_equipo_responde_adecuadamente_¿Cómo_piensa_resolver_el_problema?: string (nullable = true)\n",
      " |-- Producto_El_equipo_responde_adecuadamente_¿Cómo_funciona_el_producto_o_servicio?: string (nullable = true)\n",
      " |-- Tracción_El_equipo_responde_adecuadamente_si_cuenta_con_clientes_que_demuestran_potencial.: string (nullable = true)\n",
      " |-- Mercado_El_equipo_responde_conoce,_o_por_lo_menos_intentar_predecir,_el_tamaño_del_mercado_que_impactará.: string (nullable = true)\n",
      " |-- Competencia_El_equipo_responde_adecuadamente_¿Cuáles_son_las_soluciones_alternativas_al_problema_que_plantea?: string (nullable = true)\n",
      " |-- Modelo_de_negocio_El_equipo_responde_adecuadamente_¿Cómo_hará_dinero?_: string (nullable = true)\n",
      " |-- Inversión_El_equipo_responde_adecuadamente_¿Cuál_es_su_presupuesto_y_cuánto_espera_ganar?: string (nullable = true)\n",
      " |-- Contacto_El_equipo_deja_los_datos_al_cliente_y_muestra_cómo_pueden_contactarle.: string (nullable = true)\n",
      " |-- Exposición_¿Qué_tan_coordinados_estaban_los_expositores?: string (nullable = true)\n",
      " |-- Exposición_¿Los_expositores_se_expresaron_con_claridad_y_se_hicieron_entender?: string (nullable = true)\n",
      " |-- Exposición_Las_diapositivas_son_claras_y_coherentes_y_apoyaron_adecuadamente_la_exposición.: string (nullable = true)\n",
      " |-- Suponiendo_que_eres_inversionista,_¿Estarías_dispuesto_a_invertir_dinero_en_este_equipo?_(esta_pregunta_no_se_pondera_en_la_nota): string (nullable = true)\n",
      " |-- Observaciones_para_el_equipo,_estas_observaciones_las_debe_considerar_el_equipo_para_mejorar_la_siguiente_presentación.: string (nullable = true)\n",
      "\n"
     ]
    }
   ],
   "source": [
    "consulta1.printSchema()"
   ]
  },
  {
   "cell_type": "code",
   "execution_count": 19,
   "metadata": {},
   "outputs": [
    {
     "name": "stdout",
     "output_type": "stream",
     "text": [
      "+--------------------+\n",
      "|   Nombre_de_usuario|\n",
      "+--------------------+\n",
      "| abanolc@unal.edu.co|\n",
      "|acastrillonv@unal...|\n",
      "| aflemag@unal.edu.co|\n",
      "|anapariciom@unal....|\n",
      "|angutierrezb@unal...|\n",
      "|anoriega@unal.edu.co|\n",
      "|auarbelaeza@unal....|\n",
      "| bocampo@unal.edu.co|\n",
      "|cgiraldo@unal.edu.co|\n",
      "|cjfunezg@unal.edu.co|\n",
      "+--------------------+\n",
      "only showing top 10 rows\n",
      "\n"
     ]
    },
    {
     "data": {
      "text/plain": [
       "83"
      ]
     },
     "execution_count": 19,
     "metadata": {},
     "output_type": "execute_result"
    }
   ],
   "source": [
    "# 2. Consulte el listado total de estudiantes (correos electrónicos) del \n",
    "# curso de Ingeniería de Software, ordenados alfabéticamente\n",
    "# Tu código a continuación...\n",
    "consulta = ContextoSql.sql(\"select DISTINCT `Nombre_de_usuario` from tabla_asistencia order by `Nombre_de_usuario`\")\n",
    "\n",
    "consulta.show(10)\n",
    "consulta.count()"
   ]
  },
  {
   "cell_type": "code",
   "execution_count": 20,
   "metadata": {},
   "outputs": [
    {
     "name": "stdout",
     "output_type": "stream",
     "text": [
      "+--------------------+------+------------------+------------------+\n",
      "|   Nombre_de_usuario|conteo|primera_asistencia|primera_asistencia|\n",
      "+--------------------+------+------------------+------------------+\n",
      "|samolinap@unal.ed...|    10|2021/04/08 8:11:43|2021/04/13 9:37:26|\n",
      "| jruedat@unal.edu.co|     8|2021/04/08 8:12:55|2021/04/13 9:41:27|\n",
      "|nvalenciat@unal.e...|     8|2021/04/08 8:10:18|2021/04/13 9:39:34|\n",
      "|serendona@unal.ed...|     8|2021/04/08 8:10:47|2021/04/13 9:40:25|\n",
      "|jgutierrezlo@unal...|     8|2021/04/08 8:12:09|2021/04/13 9:39:06|\n",
      "|dgerenal@unal.edu.co|     8|2021/04/08 8:10:03|2021/04/13 9:41:27|\n",
      "|cjfunezg@unal.edu.co|     8|2021/04/08 8:12:15|2021/04/13 9:41:46|\n",
      "|emflorezb@unal.ed...|     8|2021/04/08 8:14:04|2021/04/13 9:45:49|\n",
      "|dchavarriar@unal....|     8|2021/04/08 8:13:08|2021/04/13 9:43:56|\n",
      "|fguerrerot@unal.e...|     8|2021/04/08 8:13:08|2021/04/13 9:40:15|\n",
      "+--------------------+------+------------------+------------------+\n",
      "only showing top 10 rows\n",
      "\n"
     ]
    }
   ],
   "source": [
    "# 3. Consulte la cantidad de asistencias registradas por estudiante; además, la fecha y hora de la primera asistencia\n",
    "# y la fecha y hora de la última asistencia\n",
    "# Tu código a continuación...\n",
    "\n",
    "consulta = ContextoSql.sql(\"select Nombre_de_usuario,COUNT(Nombre_de_usuario) as conteo, min(Marca_temporal) as primera_asistencia, MAX(Marca_temporal) as primera_asistencia from tabla_asistencia group by Nombre_de_usuario\")#, MAX('Marca temporal'), min('Marca temporal')\n",
    "\n",
    "consulta.show(10)"
   ]
  },
  {
   "cell_type": "code",
   "execution_count": 21,
   "metadata": {},
   "outputs": [
    {
     "name": "stdout",
     "output_type": "stream",
     "text": [
      "+--------------------+------+------------------+------------------+\n",
      "|   Nombre_de_usuario|conteo|primera_asistencia|primera_asistencia|\n",
      "+--------------------+------+------------------+------------------+\n",
      "|jdroldano@unal.ed...|     1|2021/04/08 8:20:16|2021/04/08 8:20:16|\n",
      "+--------------------+------+------------------+------------------+\n",
      "\n"
     ]
    }
   ],
   "source": [
    "# 4. Consulte el listado de estudiantes que asistieron a 2 presentaciones o menos (una).\n",
    "# Tu código a continuación...\n",
    "#consulta = ContextoSql.sql(\"select DISTINCT `Nombre_de_usuario` from tabla_Asistencia order by `Nombre_de_usuario`\")\n",
    "consulta.where(\"conteo <= 2\").show(10)\n"
   ]
  },
  {
   "cell_type": "code",
   "execution_count": 22,
   "metadata": {},
   "outputs": [
    {
     "name": "stdout",
     "output_type": "stream",
     "text": [
      "+--------------------+\n",
      "|   Nombre_de_usuario|\n",
      "+--------------------+\n",
      "|samolinap@unal.ed...|\n",
      "| jruedat@unal.edu.co|\n",
      "|nvalenciat@unal.e...|\n",
      "|serendona@unal.ed...|\n",
      "|jgutierrezlo@unal...|\n",
      "|dgerenal@unal.edu.co|\n",
      "|cjfunezg@unal.edu.co|\n",
      "|emflorezb@unal.ed...|\n",
      "|dchavarriar@unal....|\n",
      "|fguerrerot@unal.e...|\n",
      "|jdroldano@unal.ed...|\n",
      "|juriveras@unal.ed...|\n",
      "|jovillarrealm@una...|\n",
      "|dguardia@unal.edu.co|\n",
      "| lrdiaza@unal.edu.co|\n",
      "|fmiranda@unal.edu.co|\n",
      "|dcadavid@unal.edu.co|\n",
      "| bocampo@unal.edu.co|\n",
      "|rmbuilesm@unal.ed...|\n",
      "|jmunozhe@unal.edu.co|\n",
      "+--------------------+\n",
      "only showing top 20 rows\n",
      "\n"
     ]
    }
   ],
   "source": [
    "# 5. Consulte el listado de estudiantes que no asistieron a ninguna presentación.\n",
    "# Tu código a continuación...\n",
    "\n",
    "from pyspark.sql.functions import *\n",
    "\n",
    "joined_df = Asistencia.join(Evaluacion, Asistencia.Nombre_de_usuario == Evaluacion.Nombre_de_usuario, 'outer').select(Asistencia.Nombre_de_usuario).distinct().where(\"Nombre_de_usuario != 'null'\").show()\n"
   ]
  },
  {
   "cell_type": "code",
   "execution_count": 23,
   "metadata": {},
   "outputs": [
    {
     "name": "stdout",
     "output_type": "stream",
     "text": [
      "+--------------------+------------------------+\n",
      "|   Nombre_de_usuario|Equipo_al_que_perteneces|\n",
      "+--------------------+------------------------+\n",
      "| abanolc@unal.edu.co|    Gestión de Menús ...|\n",
      "|acastrillonv@unal...|    Gestión de progra...|\n",
      "| aflemag@unal.edu.co|         Mi Sanandresito|\n",
      "|anapariciom@unal....|    Servicios a domic...|\n",
      "|anapariciom@unal....|    Gestión de Menús ...|\n",
      "|angutierrezb@unal...|    Administración de...|\n",
      "|anoriega@unal.edu.co|           Te lo cambio.|\n",
      "|auarbelaeza@unal....|    Gestión de Reside...|\n",
      "| bocampo@unal.edu.co|    Servicios a domic...|\n",
      "|cgiraldo@unal.edu.co|    Gestión de Reside...|\n",
      "+--------------------+------------------------+\n",
      "only showing top 10 rows\n",
      "\n"
     ]
    },
    {
     "data": {
      "text/plain": [
       "87"
      ]
     },
     "execution_count": 23,
     "metadata": {},
     "output_type": "execute_result"
    }
   ],
   "source": [
    "# 6. Consulte los integrantes por cada equipo al que pertenecen.\n",
    "# Tu código a continuación...\n",
    "consulta = ContextoSql.sql(\"select DISTINCT Nombre_de_usuario,Equipo_al_que_perteneces from tabla_asistencia order by Nombre_de_usuario\")\n",
    "\n",
    "consulta.show(10)\n",
    "consulta.count()\n"
   ]
  },
  {
   "cell_type": "code",
   "execution_count": 24,
   "metadata": {},
   "outputs": [
    {
     "name": "stdout",
     "output_type": "stream",
     "text": [
      "+-----------------------+-----+\n",
      "|Equipo_que_va_a_exponer|count|\n",
      "+-----------------------+-----+\n",
      "|   Servicios a domic...|   76|\n",
      "|   Lo tengo y te lo ...|   75|\n",
      "|   Gestión de Reside...|   72|\n",
      "|          Te lo cambio.|   75|\n",
      "|   Administración de...|   70|\n",
      "|   Deserción de estu...|    3|\n",
      "|   Gestión de Menús ...|   72|\n",
      "|   Gestión de progra...|   74|\n",
      "|        Mi Sanandresito|   72|\n",
      "+-----------------------+-----+\n",
      "\n"
     ]
    }
   ],
   "source": [
    "# 7. Consulte la cantidad de asistentes por presentación, sin considerar los asistentes que pertenecen \n",
    "# al equipo que realizó la presentación.\n",
    "# Tu código a continuación...\n",
    "\n",
    "Asistencia.where(\"Equipo_al_que_perteneces != Equipo_que_va_a_exponer\").groupBy(Asistencia.Equipo_que_va_a_exponer).count().show()\n"
   ]
  },
  {
   "cell_type": "code",
   "execution_count": 25,
   "metadata": {},
   "outputs": [
    {
     "name": "stdout",
     "output_type": "stream",
     "text": [
      "+--------------------+\n",
      "|   Nombre_de_usuario|\n",
      "+--------------------+\n",
      "| jruedat@unal.edu.co|\n",
      "| kmolano@unal.edu.co|\n",
      "|mcarvajalsa@unal....|\n",
      "|daestradam@unal.e...|\n",
      "|jhcordoba@unal.ed...|\n",
      "|  lmayar@unal.edu.co|\n",
      "|hriveraa@unal.edu.co|\n",
      "|anapariciom@unal....|\n",
      "+--------------------+\n",
      "\n"
     ]
    }
   ],
   "source": [
    "# 8. Consutar cuáles integrantes evaluaron a su propio equipo. Estas evaluaciones no serán válidas, pues un\n",
    "# integrante no puede evaluar a su propio equipo.\n",
    "# Tu código a continuación...\n",
    "\n",
    "Asistencia.join(Evaluacion, Asistencia.Nombre_de_usuario == Evaluacion.Nombre_de_usuario, 'inner')\\\n",
    ".select(Asistencia.Equipo_al_que_perteneces, 'Equipo_que_vas_a_evaluar', Asistencia.Nombre_de_usuario).where('Equipo_al_que_perteneces == Equipo_que_vas_a_evaluar').select(Asistencia.Nombre_de_usuario).distinct().show()"
   ]
  },
  {
   "cell_type": "code",
   "execution_count": 27,
   "metadata": {},
   "outputs": [
    {
     "data": {
      "text/plain": [
       "DataFrame[Marca_temporal: string, Nombre_de_usuario: string, Equipo_que_vas_a_evaluar: string, p1: int, p2: int, p3: int, p4: int, p5: int, p6: int, p7: int, p8: int, p9: int, p10: int, p11: int, p12: int, p13: int, p14: int, p15: int, p16: string, p17: string]"
      ]
     },
     "execution_count": 27,
     "metadata": {},
     "output_type": "execute_result"
    }
   ],
   "source": [
    "# 9. Consultar la nota promedio por cada ítem (1 al 15), y la nota promedio total del cada equipo. Recuerde que no\n",
    "# son válidas las evaluaciones realizadas por los miembros del mismo equipo.\n",
    "# Tu código a continuación...\n",
    "Evaluacion = Evaluacion.withColumnRenamed('Marca_temporal','Marca_temporal')\n",
    "Evaluacion = Evaluacion.withColumnRenamed('Nombre_de_usuario','Nombre_de_usuario')\n",
    "Evaluacion = Evaluacion.withColumnRenamed('Equipo_que_vas_a_evaluar','Equipo_que_vas_a_evaluar')\n",
    "Evaluacion = Evaluacion.withColumnRenamed('Introducción_El_equipo_responde_adecuadamente_¿Quiénes_son_y_por_qué_están_aquí?','p1')\n",
    "Evaluacion = Evaluacion.withColumnRenamed('Equipo_El_equipo_responde_adecuadamente_¿Quiénes_están_detrás_de_la_idea_y_cuál_es_su_función?','p2')\n",
    "Evaluacion = Evaluacion.withColumnRenamed('Problema_El_equipo_responde_adecuadamente_¿Qué_problema_resolverá?,_¿es_realmente_un_problema?','p3')\n",
    "Evaluacion = Evaluacion.withColumnRenamed('Ventajas_El_equipo_responde_adecuadamente_¿Por_qué_su_solución_es_especial?,_¿qué_la_hace_distinta_de_otras?','p4')\n",
    "Evaluacion = Evaluacion.withColumnRenamed('Solución_El_equipo_responde_adecuadamente_¿Cómo_piensa_resolver_el_problema?','p5')\n",
    "Evaluacion = Evaluacion.withColumnRenamed('Producto_El_equipo_responde_adecuadamente_¿Cómo_funciona_el_producto_o_servicio?','p6')\n",
    "Evaluacion = Evaluacion.withColumnRenamed('Tracción_El_equipo_responde_adecuadamente_si_cuenta_con_clientes_que_demuestran_potencial.','p7')\n",
    "Evaluacion = Evaluacion.withColumnRenamed('Mercado_El_equipo_responde_conoce,_o_por_lo_menos_intentar_predecir,_el_tamaño_del_mercado_que_impactará.','p8')\n",
    "Evaluacion = Evaluacion.withColumnRenamed('Competencia_El_equipo_responde_adecuadamente_¿Cuáles_son_las_soluciones_alternativas_al_problema_que_plantea?','p9')\n",
    "Evaluacion = Evaluacion.withColumnRenamed('Modelo_de_negocio_El_equipo_responde_adecuadamente_¿Cómo_hará_dinero?_','p10')\n",
    "Evaluacion = Evaluacion.withColumnRenamed('Inversión_El_equipo_responde_adecuadamente_¿Cuál_es_su_presupuesto_y_cuánto_espera_ganar?','p11')\n",
    "Evaluacion = Evaluacion.withColumnRenamed('Contacto_El_equipo_deja_los_datos_al_cliente_y_muestra_cómo_pueden_contactarle.','p12')\n",
    "Evaluacion = Evaluacion.withColumnRenamed('Exposición_¿Qué_tan_coordinados_estaban_los_expositores?','p13')\n",
    "Evaluacion = Evaluacion.withColumnRenamed('Exposición_¿Los_expositores_se_expresaron_con_claridad_y_se_hicieron_entender?','p14')\n",
    "Evaluacion = Evaluacion.withColumnRenamed('Exposición_Las_diapositivas_son_claras_y_coherentes_y_apoyaron_adecuadamente_la_exposición.','p15')\n",
    "Evaluacion = Evaluacion.withColumnRenamed('Suponiendo_que_eres_inversionista,_¿Estarías_dispuesto_a_invertir_dinero_en_este_equipo?_(esta_pregunta_no_se_pondera_en_la_nota)','p16')\n",
    "Evaluacion = Evaluacion.withColumnRenamed('Observaciones_para_el_equipo,_estas_observaciones_las_debe_considerar_el_equipo_para_mejorar_la_siguiente_presentación.','p17')\n",
    "Evaluacion\n"
   ]
  },
  {
   "cell_type": "code",
   "execution_count": 28,
   "metadata": {},
   "outputs": [
    {
     "name": "stdout",
     "output_type": "stream",
     "text": [
      "+----------------+------------------+-----------------+-----------------+-----------------+-----------------+------------------+-----------------+-----------------+-----------------+-----------------+-----------------+-----------------+----------------+-----------------+\n",
      "|         avg(p1)|           avg(p2)|          avg(p3)|          avg(p4)|          avg(p5)|          avg(p6)|           avg(p7)|          avg(p8)|          avg(p9)|         avg(p10)|         avg(p11)|         avg(p12)|         avg(p13)|        avg(p14)|         avg(p15)|\n",
      "+----------------+------------------+-----------------+-----------------+-----------------+-----------------+------------------+-----------------+-----------------+-----------------+-----------------+-----------------+-----------------+----------------+-----------------+\n",
      "|4.36411149825784|4.2979094076655056|4.378048780487805|4.168989547038327|4.381533101045296|4.437282229965157|4.2456445993031355|4.332752613240418|4.182926829268292|4.411149825783972|4.224738675958188|4.512195121951219|4.435540069686411|4.43205574912892|4.466898954703833|\n",
      "+----------------+------------------+-----------------+-----------------+-----------------+-----------------+------------------+-----------------+-----------------+-----------------+-----------------+-----------------+-----------------+----------------+-----------------+\n",
      "\n"
     ]
    }
   ],
   "source": [
    "Evaluacion.select('p1', 'p2','p3','p4','p5','p6','p7','p8','p9','p10','p11','p12','p13','p14','p15').groupBy().avg('p1', 'p2','p3','p4','p5','p6','p7','p8','p9','p10','p11','p12','p13','p14','p15').show()"
   ]
  },
  {
   "cell_type": "markdown",
   "metadata": {},
   "source": [
    "## Consultar la nota promedio por cada ítem (1 al 15)"
   ]
  },
  {
   "cell_type": "code",
   "execution_count": 29,
   "metadata": {},
   "outputs": [
    {
     "name": "stdout",
     "output_type": "stream",
     "text": [
      "+---+---+---+---+---+---+---+---+---+---+---+---+---+---+---+\n",
      "| p1| p2| p3| p4| p5| p6| p7| p8| p9|p10|p11|p12|p13|p14|p15|\n",
      "+---+---+---+---+---+---+---+---+---+---+---+---+---+---+---+\n",
      "|  5|  5|  5|  5|  5|  5|  5|  5|  5|  5|  3|  5|  5|  5|  5|\n",
      "|  5|  5|  5|  4|  5|  5|  4|  5|  4|  4|  4|  4|  4|  5|  5|\n",
      "|  4|  4|  4|  4|  4|  4|  4|  4|  3|  4|  3|  5|  5|  4|  5|\n",
      "|  5|  4|  5|  4|  5|  5|  4|  4|  5|  4|  4|  4|  5|  5|  5|\n",
      "|  3|  3|  2|  2|  3|  4|  3|  3|  3|  4|  3|  4|  4|  3|  3|\n",
      "|  3|  2|  4|  3|  4|  4|  3|  3|  4|  4|  3|  3|  2|  3|  3|\n",
      "|  4|  5|  4|  4|  5|  5|  4|  5|  5|  5|  4|  5|  5|  5|  4|\n",
      "|  5|  5|  5|  4|  5|  5|  5|  5|  5|  5|  5|  5|  5|  5|  4|\n",
      "|  4|  2|  4|  4|  4|  5|  4|  5|  3|  4|  3|  5|  5|  3|  4|\n",
      "|  4|  4|  5|  5|  5|  5|  4|  4|  4|  5|  4|  4|  3|  4|  5|\n",
      "|  5|  5|  4|  5|  5|  5|  5|  5|  5|  5|  5|  5|  5|  5|  5|\n",
      "|  5|  4|  5|  5|  4|  5|  5|  5|  5|  4|  5|  4|  5|  5|  5|\n",
      "|  4|  3|  4|  4|  4|  5|  4|  4|  4|  4|  4|  5|  4|  5|  4|\n",
      "|  5|  5|  5|  4|  5|  5|  4|  4|  4|  4|  4|  5|  5|  5|  4|\n",
      "|  5|  4|  5|  4|  4|  5|  4|  4|  4|  4|  4|  5|  5|  4|  5|\n",
      "|  4|  3|  4|  3|  4|  5|  3|  4|  0|  4|  4|  5|  5|  5|  4|\n",
      "|  4|  4|  3|  4|  4|  3|  4|  4|  4|  4|  2|  5|  5|  3|  5|\n",
      "|  5|  4|  4|  3|  4|  5|  4|  5|  5|  5|  5|  5|  4|  4|  5|\n",
      "|  3|  1|  3|  3|  4|  5|  4|  4|  5|  3|  2|  3|  5|  5|  4|\n",
      "|  5|  3|  5|  4|  5|  5|  5|  4|  4|  5|  1|  4|  5|  5|  5|\n",
      "+---+---+---+---+---+---+---+---+---+---+---+---+---+---+---+\n",
      "only showing top 20 rows\n",
      "\n"
     ]
    }
   ],
   "source": [
    "Evaluacion.select('p1', 'p2','p3','p4','p5','p6','p7','p8','p9','p10','p11','p12','p13','p14','p15').show()#.groupBy().avg('p1', 'p2','p3','p4','p5','p6','p7','p8','p9','p10','p11','p12','p13','p14','p15').show()"
   ]
  },
  {
   "cell_type": "code",
   "execution_count": 31,
   "metadata": {},
   "outputs": [
    {
     "name": "stdout",
     "output_type": "stream",
     "text": [
      "+------------------------+-----------------+-----------------+------------------+-----------------+------------------+-----------------+-----------------+-----------------+------------------+------------------+------------------+-----------------+------------------+------------------+------------------+\n",
      "|Equipo_al_que_perteneces|          avg(p1)|          avg(p2)|           avg(p3)|          avg(p4)|           avg(p5)|          avg(p6)|          avg(p7)|          avg(p8)|           avg(p9)|          avg(p10)|          avg(p11)|         avg(p12)|          avg(p13)|          avg(p14)|          avg(p15)|\n",
      "+------------------------+-----------------+-----------------+------------------+-----------------+------------------+-----------------+-----------------+-----------------+------------------+------------------+------------------+-----------------+------------------+------------------+------------------+\n",
      "|    Servicios a domic...|4.344000497110545|4.248648480705897| 4.355993289007643|4.152022618529796|  4.36236251786491|4.413813459268004|4.264307462872056|4.361181880320636|4.1624930093829615| 4.428540359162369| 4.233641956129994|4.493972534642391| 4.429099608525446|  4.41468340272168|4.4552600509538305|\n",
      "|    Lo tengo y te lo ...|4.351019462465246|4.257993512511585| 4.396223354958295|4.137326227988878| 4.377873030583874| 4.39983781278962|4.231186283595922|4.344786839666358| 4.146200185356812| 4.408178869323447|4.2109592215013905|4.504796107506951| 4.426436515291937| 4.411028730305839|4.4484476367006485|\n",
      "|    Gestión de Reside...|4.343434107622271|4.285000583634878| 4.349060347846387|4.136383798295786| 4.373362904167153|4.484510330337341|4.213890510096883|4.290836932415081|4.1574646900898795|4.3992296019610135| 4.214754289716353|4.497630442395238|4.4409945138321465| 4.423415431306175|  4.47900081708883|\n",
      "|           Te lo cambio.|4.365553642624139|4.332502718376223|4.3989896701703515|4.188247553461399| 4.371534070315332|4.385737586081913|4.267510873504893|4.368136100036245| 4.177011598405219| 4.423908118883653|4.3090114171801375|4.513637187386735| 4.415866255889815|  4.42626404494382| 4.455645161290323|\n",
      "|    Administración de...|4.395375428789226|4.281497480201584| 4.433108880701309|4.200673357896074| 4.407190954135434|4.434506415957312|4.272074704611867|4.320861389912336|4.2130182526574345| 4.413035192478719| 4.239147926989371|4.559416423156736|4.4496675560072845|4.4624994706305845| 4.513170711048998|\n",
      "|    Gestión de Menús ...|4.374750078288729|4.350588972129213| 4.353455544046443|4.148917206658155|  4.38655360971262|4.498735335918869|4.255100811793896| 4.34805964396695| 4.168116011851709| 4.380121889528581| 4.215113337990509|4.517139209404283| 4.436369330089369| 4.429166767036832| 4.429214944716113|\n",
      "|         Mi Sanandresito|4.384493439344422|4.351397492805229| 4.386859177601092| 4.18884444661236| 4.386956733817862|4.451441393102775|4.243841763816399|4.323789083459343| 4.274913418857617| 4.413174967074776| 4.196819667333301|4.491097995219746|4.4574898785425106| 4.468391785766548| 4.513170089263938|\n",
      "|    Gestión de progra...|4.354056902002108| 4.27829848594088| 4.352115800565692|4.202151849592369|4.3861959957850365|4.431451389274028|4.219649492540625|4.304392435250402|4.1665742332649325| 4.421718152071432|4.1783872220065446|4.521684876046808| 4.427680106483279| 4.420414841106982| 4.442155177194831|\n",
      "+------------------------+-----------------+-----------------+------------------+-----------------+------------------+-----------------+-----------------+-----------------+------------------+------------------+------------------+-----------------+------------------+------------------+------------------+\n",
      "\n"
     ]
    }
   ],
   "source": [
    "df = Asistencia.join(Evaluacion, Asistencia.Nombre_de_usuario != Evaluacion.Nombre_de_usuario, 'inner')\\\n",
    ".select(Evaluacion.Equipo_que_vas_a_evaluar, Asistencia.Equipo_al_que_perteneces, 'p1', 'p2','p3','p4','p5','p6','p7','p8','p9','p10','p11','p12','p13','p14','p15')\\\n",
    ".where('Equipo_al_que_perteneces != Equipo_que_vas_a_evaluar')\\\n",
    ".groupBy('Equipo_al_que_perteneces').avg('p1', 'p2','p3','p4','p5','p6','p7','p8','p9','p10','p11','p12','p13','p14','p15')#\\\n",
    "df.show()\n",
    "\n"
   ]
  },
  {
   "cell_type": "markdown",
   "metadata": {},
   "source": [
    "## la nota promedio total del cada equipo. Recuerde que no son válidas las evaluaciones realizadas por los miembros del mismo equipo."
   ]
  },
  {
   "cell_type": "code",
   "execution_count": 32,
   "metadata": {},
   "outputs": [
    {
     "name": "stdout",
     "output_type": "stream",
     "text": [
      "+------------------------+-----------------+\n",
      "|Equipo_al_que_perteneces|       Nota_total|\n",
      "+------------------------+-----------------+\n",
      "|    Servicios a domic...|4.051734708672508|\n",
      "|    Lo tengo y te lo ...|4.046751621872104|\n",
      "|    Gestión de Reside...| 4.04970234621221|\n",
      "|           Te lo cambio.|4.068933490395071|\n",
      "|    Administración de...|4.079991247759002|\n",
      "|    Gestión de Menús ...|4.061110174322903|\n",
      "|         Mi Sanandresito|4.076545859551566|\n",
      "|    Gestión de progra...|4.050191337141589|\n",
      "+------------------------+-----------------+\n",
      "\n"
     ]
    }
   ],
   "source": [
    "from functools import reduce\n",
    "from operator import add\n",
    "from pyspark.sql.functions import col, lit\n",
    "\n",
    "n = lit(len(df.columns) - 1.0)\n",
    "rowMean  = (reduce(add, (col(x) for x in df.columns[2:])) / n).alias(\"Nota_total\")\n",
    "\n",
    "df1 = df.select('Equipo_al_que_perteneces', rowMean)\n",
    "\n",
    "df1.show()\n"
   ]
  },
  {
   "cell_type": "code",
   "execution_count": 40,
   "metadata": {},
   "outputs": [],
   "source": [
    "# 10. Consulte el mejor equipo evaluado por cada ítem (según nota promedio. En caso de empate mostrar todos los empatados) \n",
    "# y el mejor equipo según el promedio total.\n",
    "# Tu código a continuación..."
   ]
  },
  {
   "cell_type": "code",
   "execution_count": 35,
   "metadata": {},
   "outputs": [],
   "source": [
    "from pyspark.sql.functions import array, col, explode, lit, struct\n",
    "from pyspark.sql import DataFrame\n",
    "from typing import Iterable \n",
    "def melt(\n",
    "        df: DataFrame, \n",
    "        id_vars: Iterable[str], value_vars: Iterable[str], \n",
    "        var_name: str=\"variable\", value_name: str=\"value\") -> DataFrame:\n",
    "    \"\"\"Convert :class:`DataFrame` from wide to long format.\"\"\"\n",
    "\n",
    "    # Create array<struct<variable: str, value: ...>>\n",
    "    _vars_and_vals = array(*(\n",
    "        struct(lit(c).alias(var_name), col(c).alias(value_name)) \n",
    "        for c in value_vars))\n",
    "\n",
    "    # Add to the DataFrame and explode\n",
    "    _tmp = df.withColumn(\"_vars_and_vals\", explode(_vars_and_vals))\n",
    "\n",
    "    cols = id_vars + [\n",
    "            col(\"_vars_and_vals\")[x].alias(x) for x in [var_name, value_name]]\n",
    "    return _tmp.select(*cols)"
   ]
  },
  {
   "cell_type": "code",
   "execution_count": 36,
   "metadata": {},
   "outputs": [
    {
     "name": "stdout",
     "output_type": "stream",
     "text": [
      "+------------------------+--------+------------------+\n",
      "|Equipo_al_que_perteneces|variable|             value|\n",
      "+------------------------+--------+------------------+\n",
      "|    Servicios a domic...| avg(p1)| 4.344000497110545|\n",
      "|    Servicios a domic...| avg(p2)| 4.248648480705897|\n",
      "|    Servicios a domic...| avg(p3)| 4.355993289007643|\n",
      "|    Servicios a domic...| avg(p4)| 4.152022618529796|\n",
      "|    Servicios a domic...| avg(p5)|  4.36236251786491|\n",
      "|    Servicios a domic...| avg(p6)| 4.413813459268004|\n",
      "|    Servicios a domic...| avg(p7)| 4.264307462872056|\n",
      "|    Servicios a domic...| avg(p8)| 4.361181880320636|\n",
      "|    Servicios a domic...| avg(p9)|4.1624930093829615|\n",
      "|    Servicios a domic...|avg(p10)| 4.428540359162369|\n",
      "|    Servicios a domic...|avg(p11)| 4.233641956129994|\n",
      "|    Servicios a domic...|avg(p12)| 4.493972534642391|\n",
      "|    Servicios a domic...|avg(p13)| 4.429099608525446|\n",
      "|    Servicios a domic...|avg(p14)|  4.41468340272168|\n",
      "|    Servicios a domic...|avg(p15)|4.4552600509538305|\n",
      "|    Lo tengo y te lo ...| avg(p1)| 4.351019462465246|\n",
      "|    Lo tengo y te lo ...| avg(p2)| 4.257993512511585|\n",
      "|    Lo tengo y te lo ...| avg(p3)| 4.396223354958295|\n",
      "|    Lo tengo y te lo ...| avg(p4)| 4.137326227988878|\n",
      "|    Lo tengo y te lo ...| avg(p5)| 4.377873030583874|\n",
      "+------------------------+--------+------------------+\n",
      "only showing top 20 rows\n",
      "\n"
     ]
    }
   ],
   "source": [
    "df2 = melt(df, id_vars=['Equipo_al_que_perteneces'], value_vars=['avg(p1)', 'avg(p2)', 'avg(p3)', 'avg(p4)', 'avg(p5)', 'avg(p6)', 'avg(p7)', 'avg(p8)', 'avg(p9)', 'avg(p10)', 'avg(p11)', 'avg(p12)', 'avg(p13)', 'avg(p14)', 'avg(p15)'])\n",
    "df2.show()"
   ]
  },
  {
   "cell_type": "code",
   "execution_count": 37,
   "metadata": {},
   "outputs": [
    {
     "name": "stdout",
     "output_type": "stream",
     "text": [
      "+------------------------+--------+------------------+\n",
      "|Equipo_al_que_perteneces|variable|        max(value)|\n",
      "+------------------------+--------+------------------+\n",
      "|    Administración de...| avg(p1)| 4.395375428789226|\n",
      "|         Mi Sanandresito| avg(p1)| 4.384493439344422|\n",
      "|    Gestión de Menús ...| avg(p1)| 4.374750078288729|\n",
      "|           Te lo cambio.| avg(p1)| 4.365553642624139|\n",
      "|    Gestión de progra...| avg(p1)| 4.354056902002108|\n",
      "|    Lo tengo y te lo ...| avg(p1)| 4.351019462465246|\n",
      "|    Servicios a domic...| avg(p1)| 4.344000497110545|\n",
      "|    Gestión de Reside...| avg(p1)| 4.343434107622271|\n",
      "|    Servicios a domic...|avg(p10)| 4.428540359162369|\n",
      "|           Te lo cambio.|avg(p10)| 4.423908118883653|\n",
      "|    Gestión de progra...|avg(p10)| 4.421718152071432|\n",
      "|         Mi Sanandresito|avg(p10)| 4.413174967074776|\n",
      "|    Administración de...|avg(p10)| 4.413035192478719|\n",
      "|    Lo tengo y te lo ...|avg(p10)| 4.408178869323447|\n",
      "|    Gestión de Reside...|avg(p10)|4.3992296019610135|\n",
      "|    Gestión de Menús ...|avg(p10)| 4.380121889528581|\n",
      "|           Te lo cambio.|avg(p11)|4.3090114171801375|\n",
      "|    Administración de...|avg(p11)| 4.239147926989371|\n",
      "|    Servicios a domic...|avg(p11)| 4.233641956129994|\n",
      "|    Gestión de Menús ...|avg(p11)| 4.215113337990509|\n",
      "+------------------------+--------+------------------+\n",
      "only showing top 20 rows\n",
      "\n"
     ]
    }
   ],
   "source": [
    "df3 = df2.groupBy(\"Equipo_al_que_perteneces\", \"variable\").max(\"value\").orderBy(\"variable\",\"max(value)\")\n",
    "df3 = df3.sort(df3.variable.asc(),df3['max(value)'].desc())\n",
    "df3.show()"
   ]
  },
  {
   "cell_type": "markdown",
   "metadata": {},
   "source": [
    "## Consulte el mejor equipo evaluado por cada ítem (según nota promedio. En caso de empate mostrar todos los empatados)"
   ]
  },
  {
   "cell_type": "code",
   "execution_count": 38,
   "metadata": {},
   "outputs": [
    {
     "name": "stdout",
     "output_type": "stream",
     "text": [
      "+------------------------+--------+------------------+\n",
      "|Equipo_al_que_perteneces|variable|        max(value)|\n",
      "+------------------------+--------+------------------+\n",
      "|    Administración de...| avg(p1)| 4.395375428789226|\n",
      "|    Servicios a domic...|avg(p10)| 4.428540359162369|\n",
      "|           Te lo cambio.|avg(p11)|4.3090114171801375|\n",
      "|    Administración de...|avg(p12)| 4.559416423156736|\n",
      "|         Mi Sanandresito|avg(p13)|4.4574898785425106|\n",
      "|         Mi Sanandresito|avg(p14)| 4.468391785766548|\n",
      "|    Administración de...|avg(p15)| 4.513170711048998|\n",
      "|         Mi Sanandresito| avg(p2)| 4.351397492805229|\n",
      "|    Administración de...| avg(p3)| 4.433108880701309|\n",
      "|    Gestión de progra...| avg(p4)| 4.202151849592369|\n",
      "|    Administración de...| avg(p5)| 4.407190954135434|\n",
      "|    Gestión de Menús ...| avg(p6)| 4.498735335918869|\n",
      "|    Administración de...| avg(p7)| 4.272074704611867|\n",
      "|           Te lo cambio.| avg(p8)| 4.368136100036245|\n",
      "|         Mi Sanandresito| avg(p9)| 4.274913418857617|\n",
      "+------------------------+--------+------------------+\n",
      "\n"
     ]
    }
   ],
   "source": [
    "df3.dropDuplicates((['variable'])).select(\"Equipo_al_que_perteneces\",\"variable\", \"max(value)\").orderBy(\"variable\",\"max(value)\").show()"
   ]
  },
  {
   "cell_type": "markdown",
   "metadata": {},
   "source": [
    "## el mejor equipo según el promedio total"
   ]
  },
  {
   "cell_type": "code",
   "execution_count": 39,
   "metadata": {},
   "outputs": [
    {
     "name": "stdout",
     "output_type": "stream",
     "text": [
      "+------------------------+-----------------+\n",
      "|Equipo_al_que_perteneces|       Nota_total|\n",
      "+------------------------+-----------------+\n",
      "|    Administración de...|4.079991247759002|\n",
      "+------------------------+-----------------+\n",
      "only showing top 1 row\n",
      "\n"
     ]
    }
   ],
   "source": [
    "df1.sort(df1.Nota_total.desc()).show(1)"
   ]
  },
  {
   "cell_type": "code",
   "execution_count": 43,
   "metadata": {},
   "outputs": [],
   "source": [
    "# 11. Consulte el peor equipo evaluado por cada ítem (según nota promedio. En caso de empate mostrar todos los empatados) \n",
    "# y el peor equipo según el promedio total.\n",
    "# Tu código a continuación...\n"
   ]
  },
  {
   "cell_type": "markdown",
   "metadata": {},
   "source": [
    "## Consulte el peor equipo evaluado por cada ítem (según nota promedio. En caso de empate mostrar todos los empatados)"
   ]
  },
  {
   "cell_type": "code",
   "execution_count": 44,
   "metadata": {},
   "outputs": [
    {
     "name": "stdout",
     "output_type": "stream",
     "text": [
      "+------------------------+--------+------------------+\n",
      "|Equipo_al_que_perteneces|variable|        min(value)|\n",
      "+------------------------+--------+------------------+\n",
      "|    Gestión de Reside...| avg(p1)| 4.343434107622271|\n",
      "|    Gestión de Menús ...|avg(p10)| 4.380121889528581|\n",
      "|    Gestión de progra...|avg(p11)|4.1783872220065446|\n",
      "|         Mi Sanandresito|avg(p12)| 4.491097995219746|\n",
      "|           Te lo cambio.|avg(p13)| 4.415866255889815|\n",
      "|    Lo tengo y te lo ...|avg(p14)| 4.411028730305839|\n",
      "|    Gestión de Menús ...|avg(p15)| 4.429214944716113|\n",
      "|    Servicios a domic...| avg(p2)| 4.248648480705897|\n",
      "|    Gestión de Reside...| avg(p3)| 4.349060347846387|\n",
      "|    Gestión de Reside...| avg(p4)| 4.136383798295786|\n",
      "|    Servicios a domic...| avg(p5)|  4.36236251786491|\n",
      "|           Te lo cambio.| avg(p6)| 4.385737586081913|\n",
      "|    Gestión de Reside...| avg(p7)| 4.213890510096883|\n",
      "|    Gestión de Reside...| avg(p8)| 4.290836932415081|\n",
      "|    Lo tengo y te lo ...| avg(p9)| 4.146200185356812|\n",
      "+------------------------+--------+------------------+\n",
      "\n"
     ]
    }
   ],
   "source": [
    "df3 = df2.groupBy(\"Equipo_al_que_perteneces\", \"variable\").min(\"value\").orderBy(\"variable\",\"min(value)\")\n",
    "df3.dropDuplicates((['variable'])).select(\"Equipo_al_que_perteneces\",\"variable\", \"min(value)\").orderBy(\"variable\",\"min(value)\").show()"
   ]
  },
  {
   "cell_type": "markdown",
   "metadata": {},
   "source": [
    "## el peor equipo según el promedio total"
   ]
  },
  {
   "cell_type": "code",
   "execution_count": 45,
   "metadata": {},
   "outputs": [
    {
     "name": "stdout",
     "output_type": "stream",
     "text": [
      "+------------------------+-----------------+\n",
      "|Equipo_al_que_perteneces|       Nota_total|\n",
      "+------------------------+-----------------+\n",
      "|    Lo tengo y te lo ...|4.046751621872104|\n",
      "+------------------------+-----------------+\n",
      "only showing top 1 row\n",
      "\n"
     ]
    }
   ],
   "source": [
    "df1.sort(df1.Nota_total.asc()).show(1)"
   ]
  },
  {
   "cell_type": "code",
   "execution_count": 46,
   "metadata": {},
   "outputs": [
    {
     "name": "stdout",
     "output_type": "stream",
     "text": [
      "+--------------------+------------------+\n",
      "|   Nombre_de_usuario|        avg(value)|\n",
      "+--------------------+------------------+\n",
      "|samolinap@unal.ed...| 4.828118481435127|\n",
      "| jruedat@unal.edu.co| 4.287882557850212|\n",
      "|nvalenciat@unal.e...| 4.000682480233042|\n",
      "|serendona@unal.ed...| 4.647129606417649|\n",
      "| hasta más famoso...|              null|\n",
      "|jgutierrezlo@unal...| 4.220474406991261|\n",
      "|dgerenal@unal.edu.co|4.2947482313774445|\n",
      "|cjfunezg@unal.edu.co|4.3336515113455585|\n",
      "|emflorezb@unal.ed...| 4.724507604088756|\n",
      "|dchavarriar@unal....| 4.924375365588703|\n",
      "|fguerrerot@unal.e...|  4.31572201414898|\n",
      "|jdroldano@unal.ed...| 4.282472137791286|\n",
      "|juriveras@unal.ed...|3.3828585707146432|\n",
      "|jovillarrealm@una...| 4.819473023839397|\n",
      "| lrdiaza@unal.edu.co| 4.298011812661176|\n",
      "|dguardia@unal.edu.co| 4.114742628685658|\n",
      "| que genera un có...|              null|\n",
      "|fmiranda@unal.edu.co| 4.761707093440026|\n",
      "|dcadavid@unal.edu.co| 4.754138534633658|\n",
      "|    UberEats incluso|              null|\n",
      "+--------------------+------------------+\n",
      "only showing top 20 rows\n",
      "\n"
     ]
    }
   ],
   "source": [
    "# 12. Consulte la lista de estudiantes con la correspondiente nota obtenida en la presentación \n",
    "# (nota promedio total de la evaluación obtenida por el equipo)\n",
    "# Tu código a continuación...\n",
    "\n",
    "df4 = Asistencia.join(Evaluacion, Asistencia.Nombre_de_usuario != Evaluacion.Nombre_de_usuario, 'inner')\\\n",
    ".select(Evaluacion.Nombre_de_usuario, Evaluacion.Equipo_que_vas_a_evaluar, Asistencia.Equipo_al_que_perteneces, 'p1', 'p2','p3','p4','p5','p6','p7','p8','p9','p10','p11','p12','p13','p14','p15')\\\n",
    ".where('Equipo_al_que_perteneces != Equipo_que_vas_a_evaluar')\\\n",
    ".groupBy('Nombre_de_usuario').avg('p1', 'p2','p3','p4','p5','p6','p7','p8','p9','p10','p11','p12','p13','p14','p15')#\\\n",
    "\n",
    "df5 = melt(df4, id_vars=['Nombre_de_usuario'], value_vars=['avg(p1)', 'avg(p2)', 'avg(p3)', 'avg(p4)', 'avg(p5)', 'avg(p6)', 'avg(p7)', 'avg(p8)', 'avg(p9)', 'avg(p10)', 'avg(p11)', 'avg(p12)', 'avg(p13)', 'avg(p14)', 'avg(p15)'])\n",
    "#df5.show()\n",
    "\n",
    "df5 = df5.groupBy(\"Nombre_de_usuario\").avg(\"value\")#.orderBy(\"variable\",\"max(value)\")\n",
    "\n",
    "df5.show()"
   ]
  }
 ],
 "metadata": {
  "kernelspec": {
   "display_name": "Python 3",
   "language": "python",
   "name": "python3"
  },
  "language_info": {
   "codemirror_mode": {
    "name": "ipython",
    "version": 3
   },
   "file_extension": ".py",
   "mimetype": "text/x-python",
   "name": "python",
   "nbconvert_exporter": "python",
   "pygments_lexer": "ipython3",
   "version": "3.6.9"
  }
 },
 "nbformat": 4,
 "nbformat_minor": 4
}
